{
  "cells": [
    {
      "cell_type": "markdown",
      "metadata": {
        "id": "view-in-github",
        "colab_type": "text"
      },
      "source": [
        "<a href=\"https://colab.research.google.com/github/kasprowski/smartweld/blob/main/rf_stat.ipynb\" target=\"_parent\"><img src=\"https://colab.research.google.com/assets/colab-badge.svg\" alt=\"Open In Colab\"/></a>"
      ]
    },
    {
      "cell_type": "code",
      "execution_count": null,
      "id": "7b950e22-ecf6-49d3-b5d7-29e9038818e6",
      "metadata": {
        "id": "7b950e22-ecf6-49d3-b5d7-29e9038818e6"
      },
      "outputs": [],
      "source": [
        "import scipy.io\n",
        "import os\n",
        "import matplotlib.pyplot as plt\n",
        "import seaborn as sn"
      ]
    },
    {
      "cell_type": "code",
      "execution_count": null,
      "id": "6160d351-85e3-4996-8bf7-fd051b5ccfbf",
      "metadata": {
        "id": "6160d351-85e3-4996-8bf7-fd051b5ccfbf"
      },
      "outputs": [],
      "source": [
        "import sklearn\n",
        "from sklearn.metrics import classification_report, confusion_matrix, accuracy_score, cohen_kappa_score\n",
        "from sklearn.discriminant_analysis import LinearDiscriminantAnalysis\n",
        "from sklearn.ensemble import RandomForestClassifier\n",
        "from sklearn.ensemble import GradientBoostingClassifier\n",
        "from sklearn.linear_model import Perceptron\n",
        "from sklearn.naive_bayes import GaussianNB\n",
        "from sklearn.neighbors import KNeighborsClassifier\n",
        "from sklearn.svm import SVC\n",
        "from sklearn.tree import DecisionTreeClassifier\n"
      ]
    },
    {
      "cell_type": "markdown",
      "id": "5f193e56-f66e-4b94-89fa-2aab27377c51",
      "metadata": {
        "id": "5f193e56-f66e-4b94-89fa-2aab27377c51"
      },
      "source": [
        "## Loading data\n",
        "Every file has name: F_<name>_<second>_...."
      ]
    },
    {
      "cell_type": "code",
      "execution_count": null,
      "id": "7bfe9ac2-b478-4190-b96a-8e5fcecdc709",
      "metadata": {
        "id": "7bfe9ac2-b478-4190-b96a-8e5fcecdc709"
      },
      "outputs": [],
      "source": [
        "import numpy as np\n",
        "def load_file(file):\n",
        "    mat = scipy.io.loadmat(file)\n",
        "    vect = []\n",
        "    for key, value in mat.items() :\n",
        "        ## use only 11 relevant signals\n",
        "        if not key.startswith(\"_\") and not key.startswith('orig'):\n",
        "            v = mat[key]\n",
        "            vect.append(v)\n",
        "            #print('>',key, len(v))\n",
        "    return vect"
      ]
    },
    {
      "cell_type": "code",
      "execution_count": null,
      "id": "dd23d801-235f-466c-bb81-6019d023d275",
      "metadata": {
        "id": "dd23d801-235f-466c-bb81-6019d023d275",
        "outputId": "dff3cb12-af13-452b-88f2-d71bbc1ff79b"
      },
      "outputs": [
        {
          "name": "stdout",
          "output_type": "stream",
          "text": [
            "files 1674\n",
            "..........................................................................................................................................................................................................................................................................................................................................................................................................................................................................................................................................................................................................................................................................................................................................................................................................................................................................................................................................................................................................................................................................................................................................................................................................................................................................................................................................................................................................................................................................................................................................................................................................................................................................................................................................done\n",
            "Samples shape: (837, 11, 25600, 1)\n"
          ]
        }
      ],
      "source": [
        "dir = 'Converted3a' ## directory name!\n",
        "\n",
        "def load_samples(dir):\n",
        "    print('files',len(os.listdir(dir)))\n",
        "    files_list = os.listdir(dir)\n",
        "    files_list.sort()\n",
        "    #files_list.sort()\n",
        "    samples = []\n",
        "    labels = []\n",
        "    names = []\n",
        "    secs = []\n",
        "    for file in files_list:\n",
        "        print('.',end='')\n",
        "        if \"ALE\" in file:\n",
        "            continue\n",
        "        #print(file)\n",
        "        v = load_file(f'{dir}/{file}')\n",
        "        #v = load_stats(f'{dir}/{file}')\n",
        "        samples.append(v)\n",
        "        #names.append(int(file[:file.find('_')]))\n",
        "        names.append(int(file.split(\"_\")[1]))\n",
        "        secs.append(int(file.split(\"_\")[2]))\n",
        "        if \"Bad\" in file:\n",
        "            labels.append(0)\n",
        "        else:\n",
        "            labels.append(1)\n",
        "        #print(len(samples))\n",
        "        # for s in samples:\n",
        "        #     print(len(s))\n",
        "    samples = np.array(samples)\n",
        "    labels = np.array(labels)\n",
        "    names = np.array(names)\n",
        "    secs = np.array(secs)\n",
        "    print('done')\n",
        "    return samples,labels,names,secs\n",
        "samples, labels, names, secs = load_samples(dir)\n",
        "print('Samples shape:',samples.shape)\n"
      ]
    },
    {
      "cell_type": "markdown",
      "id": "b366ef22-298d-4ffa-8f7a-4d42165d96f2",
      "metadata": {
        "id": "b366ef22-298d-4ffa-8f7a-4d42165d96f2"
      },
      "source": [
        "### Single sample: 11 signals, 25600 values each"
      ]
    },
    {
      "cell_type": "code",
      "execution_count": null,
      "id": "6cae5c15-3e9d-4a9a-bf8a-f64289627941",
      "metadata": {
        "id": "6cae5c15-3e9d-4a9a-bf8a-f64289627941",
        "outputId": "f746907c-e02e-4f76-ca30-145a12153aea"
      },
      "outputs": [
        {
          "data": {
            "text/plain": [
              "(11, 25600, 1)"
            ]
          },
          "execution_count": 26,
          "metadata": {},
          "output_type": "execute_result"
        }
      ],
      "source": [
        "samples[0].shape"
      ]
    },
    {
      "cell_type": "markdown",
      "id": "a8e404e3-9f85-41b5-b7d3-1659fa478c72",
      "metadata": {
        "id": "a8e404e3-9f85-41b5-b7d3-1659fa478c72"
      },
      "source": [
        "### Splitting one second samples to shorter (num=10 means 0.1 sec per sample)"
      ]
    },
    {
      "cell_type": "code",
      "execution_count": null,
      "id": "16117bc2-d479-4536-90fd-d1489fcd2ab0",
      "metadata": {
        "id": "16117bc2-d479-4536-90fd-d1489fcd2ab0",
        "outputId": "55c5e970-400d-4118-d62f-dad19b304650"
      },
      "outputs": [
        {
          "name": "stdout",
          "output_type": "stream",
          "text": [
            "Samples10 shape: (8370, 11, 2560, 1)\n"
          ]
        }
      ],
      "source": [
        "def split_sample(sample,num=10):\n",
        "    x = np.hsplit(sample,num)\n",
        "    return np.array(x)\n",
        "def split_samples(samples,labels,names,num=10):\n",
        "    ss = []\n",
        "    ll = []\n",
        "    nn = []\n",
        "    for i,s in enumerate(samples):\n",
        "        ss.append(split_sample(s,num))\n",
        "        for _ in range(num):\n",
        "            ll.append(labels[i])\n",
        "            nn.append(names[i])\n",
        "    nss = np.concatenate(ss)\n",
        "\n",
        "    return nss,np.array(ll),np.array(nn)\n",
        "\n",
        "samples10,labels10,names10 = split_samples(samples,labels,names,10)\n",
        "print('samples10 shape:',samples10.shape)"
      ]
    },
    {
      "cell_type": "markdown",
      "id": "5c547651-eb10-4e73-8c9c-0de5b75ca870",
      "metadata": {
        "id": "5c547651-eb10-4e73-8c9c-0de5b75ca870"
      },
      "source": [
        "### For each of 11 signals replace it with statistics: min,max,median,mean,kurtosis,skew - 6 values"
      ]
    },
    {
      "cell_type": "code",
      "source": [
        "from scipy.stats import kurtosis, skew\n",
        "def sample2stat(sample):\n",
        "    vect = []\n",
        "    for i in range(11):\n",
        "        s = sample[i]\n",
        "        v = [np.min(s),np.max(s),np.median(s),np.mean(s),kurtosis(s)[0],skew(s)[0]]\n",
        "            #vect.append(v)\n",
        "        vect.extend(v)\n",
        "        #print(len(vect))\n",
        "    return vect\n",
        "\n",
        "def samples2stat(samples):\n",
        "    v = []\n",
        "    for s in samples:\n",
        "        ss = sample2stat(s)\n",
        "        v.append(ss)\n",
        "    return np.array(v)\n",
        "\n",
        "stat_samples = samples2stat(samples)\n",
        "stat_samples.shape\n",
        "print('stat_samples shape:',stat_samples.shape)"
      ],
      "metadata": {
        "id": "pdBC9eRHQJSC"
      },
      "id": "pdBC9eRHQJSC",
      "execution_count": null,
      "outputs": []
    },
    {
      "cell_type": "code",
      "execution_count": null,
      "id": "c5bff61c-5eac-4a02-b35a-02c36d7699f0",
      "metadata": {
        "id": "c5bff61c-5eac-4a02-b35a-02c36d7699f0",
        "outputId": "ff67a508-3825-4868-d846-0e9b875275d6"
      },
      "outputs": [
        {
          "name": "stdout",
          "output_type": "stream",
          "text": [
            "(8370, 66)\n"
          ]
        }
      ],
      "source": [
        "stat_samples10 = samples2stat(samples10)\n",
        "print(stat_samples10.shape)"
      ]
    },
    {
      "cell_type": "markdown",
      "id": "a429b145-88c4-4051-bb81-0ac0d4931132",
      "metadata": {
        "id": "a429b145-88c4-4051-bb81-0ac0d4931132"
      },
      "source": [
        "## Classification\n",
        "\n",
        "Dataset:\n",
        "- samples, labels, names (837 one second samples, 11x25600 features for each sample)\n",
        "- samples10, labels10, names10 (8370 0.1 second samples, 11x2560 features for each sample)\n",
        "- stat_samples, labels, names (837 statistics for one second samples, 11x6 = 66 features for each sample)\n",
        "- stat_samples10, labels, names (8370 statistics for 0.1 second samples, 11x6 = 66 features for each sample)"
      ]
    },
    {
      "cell_type": "markdown",
      "id": "7d671a4a-2c75-4212-bd15-5833fc73764f",
      "metadata": {
        "id": "7d671a4a-2c75-4212-bd15-5833fc73764f"
      },
      "source": [
        "## Classify files with the given names-indexes (testSamples) based on all other files (trainSamples)"
      ]
    },
    {
      "cell_type": "code",
      "execution_count": null,
      "id": "86417e3e-cf5d-40a9-8124-9df59b511d4b",
      "metadata": {
        "id": "86417e3e-cf5d-40a9-8124-9df59b511d4b"
      },
      "outputs": [],
      "source": [
        "def classify_files(file_indexes,samples,labels,names):\n",
        "    ## we do not randomly split the dataset!\n",
        "    #(trainSamples, testSamples, trainLabels, testLabels) = sklearn.model_selection.train_test_split(samples,labels,train_size=prop,stratify=labels)\n",
        "    trainSamples = []\n",
        "    trainLabels = []\n",
        "    testSamples = []\n",
        "    testLabels = []\n",
        "\n",
        "    for i,n in enumerate(names):\n",
        "        if n in file_indexes:\n",
        "            testSamples.append(samples[i])\n",
        "            testLabels.append(labels[i])\n",
        "        else:\n",
        "            trainSamples.append(samples[i])\n",
        "            trainLabels.append(labels[i])\n",
        "\n",
        "    model = RandomForestClassifier(n_estimators=20)\n",
        "    model.fit(trainSamples, trainLabels)\n",
        "    results = model.predict(testSamples)\n",
        "    return testLabels,results"
      ]
    },
    {
      "cell_type": "markdown",
      "id": "f7730ffd-aff5-423b-a8ed-be7aef9e7e01",
      "metadata": {
        "id": "f7730ffd-aff5-423b-a8ed-be7aef9e7e01"
      },
      "source": [
        "## One-file-leave-out cross validation\n",
        "\n",
        "Samples from each file are classified based on all other saples from other files"
      ]
    },
    {
      "cell_type": "code",
      "execution_count": null,
      "id": "eca385b2-e930-4918-995e-e479e3b7fd71",
      "metadata": {
        "id": "eca385b2-e930-4918-995e-e479e3b7fd71"
      },
      "outputs": [],
      "source": [
        "def cross_validate_files(samples,labels,names,verbose=0):\n",
        "    correct_labels = []\n",
        "    found_labels = []\n",
        "    for i in range(20,71):\n",
        "        l,r = classify_files([i],samples,labels,names)\n",
        "        if verbose==1:\n",
        "            print(confusion_matrix(l, r))\n",
        "            print(i,'accuracy',accuracy_score(l, r))\n",
        "            print()\n",
        "        correct_labels.extend(l)\n",
        "        found_labels.extend(r)\n",
        "    print(confusion_matrix(correct_labels, found_labels))\n",
        "    print(accuracy_score(correct_labels, found_labels))\n",
        "    return confusion_matrix(correct_labels, found_labels)"
      ]
    },
    {
      "cell_type": "markdown",
      "id": "e5dc0d98-7d71-4b59-a14d-1a28413b4226",
      "metadata": {
        "id": "e5dc0d98-7d71-4b59-a14d-1a28413b4226"
      },
      "source": [
        "## Classification results for four datasets"
      ]
    },
    {
      "cell_type": "code",
      "execution_count": null,
      "id": "adc7163a-aafb-4126-9e9b-a65fac5fce33",
      "metadata": {
        "id": "adc7163a-aafb-4126-9e9b-a65fac5fce33",
        "outputId": "2fc50a63-b360-4890-c0ae-e3680f78832d"
      },
      "outputs": [
        {
          "name": "stdout",
          "output_type": "stream",
          "text": [
            "[[158  52]\n",
            " [ 31 596]]\n",
            "0.9008363201911589\n"
          ]
        }
      ],
      "source": [
        "# stat_samples\n",
        "cross_validate_files(stat_samples,labels,names)"
      ]
    },
    {
      "cell_type": "code",
      "execution_count": null,
      "id": "ccea6262-879f-47f7-a364-d8b6c8828955",
      "metadata": {
        "id": "ccea6262-879f-47f7-a364-d8b6c8828955",
        "outputId": "c80563e2-1aa1-40cb-b47a-9079bc23db70"
      },
      "outputs": [
        {
          "name": "stdout",
          "output_type": "stream",
          "text": [
            "[[1640  460]\n",
            " [ 318 5952]]\n",
            "0.9070489844683393\n"
          ]
        }
      ],
      "source": [
        "# stat_samples10\n",
        "cross_validate_files(stat_samples10,labels10,names10)"
      ]
    },
    {
      "cell_type": "code",
      "execution_count": null,
      "id": "8de0e325-49c2-479d-a1fe-08c0ebeb5a73",
      "metadata": {
        "id": "8de0e325-49c2-479d-a1fe-08c0ebeb5a73",
        "outputId": "1cdba927-a725-4f0e-f5d2-b76706d631e0"
      },
      "outputs": [
        {
          "name": "stdout",
          "output_type": "stream",
          "text": [
            "[[129  81]\n",
            " [ 45 582]]\n",
            "0.8494623655913979\n"
          ]
        }
      ],
      "source": [
        "# samples (must be reshaped to a vector for Random Forest)\n",
        "cross_validate_files(samples.reshape(837,-1),labels,names)"
      ]
    },
    {
      "cell_type": "code",
      "execution_count": null,
      "id": "59674304-b26f-4bce-b767-7606e20e2f92",
      "metadata": {
        "id": "59674304-b26f-4bce-b767-7606e20e2f92",
        "outputId": "3eb60597-88e0-465b-9f52-3eda7c01daf6"
      },
      "outputs": [
        {
          "name": "stdout",
          "output_type": "stream",
          "text": [
            "[[1411  689]\n",
            " [ 300 5970]]\n",
            "0.8818399044205496\n"
          ]
        }
      ],
      "source": [
        "# samples10 (must be reshaped to a vector for Random Forest)\n",
        "cross_validate_files(samples10.reshape(8370,-1),labels10,names10)"
      ]
    },
    {
      "cell_type": "markdown",
      "id": "b6e64b2a-95c5-4138-8a12-d946507047f1",
      "metadata": {
        "id": "b6e64b2a-95c5-4138-8a12-d946507047f1"
      },
      "source": [
        "## Results for separate files"
      ]
    },
    {
      "cell_type": "code",
      "execution_count": null,
      "id": "3426d444-22a3-4056-bab7-f0ceed99fc90",
      "metadata": {
        "id": "3426d444-22a3-4056-bab7-f0ceed99fc90",
        "outputId": "cf75cd36-ebb3-46f0-dd6d-ad114115fcbd"
      },
      "outputs": [
        {
          "name": "stdout",
          "output_type": "stream",
          "text": [
            "[[22]]\n",
            "20 accuracy 1.0\n",
            "\n",
            "[[14]]\n",
            "21 accuracy 1.0\n",
            "\n",
            "[[19]]\n",
            "22 accuracy 1.0\n",
            "\n",
            "[[19]]\n",
            "23 accuracy 1.0\n",
            "\n",
            "[[18]]\n",
            "24 accuracy 1.0\n",
            "\n",
            "[[19]]\n",
            "25 accuracy 1.0\n",
            "\n",
            "[[18]]\n",
            "26 accuracy 1.0\n",
            "\n",
            "[[18]]\n",
            "27 accuracy 1.0\n",
            "\n",
            "[[21]]\n",
            "28 accuracy 1.0\n",
            "\n",
            "[[18]]\n",
            "29 accuracy 1.0\n",
            "\n",
            "[[19]]\n",
            "30 accuracy 1.0\n",
            "\n",
            "[[19]]\n",
            "31 accuracy 1.0\n",
            "\n",
            "[[16]]\n",
            "32 accuracy 1.0\n",
            "\n",
            "[[14]]\n",
            "33 accuracy 1.0\n",
            "\n",
            "[[17]]\n",
            "34 accuracy 1.0\n",
            "\n",
            "[[17]]\n",
            "35 accuracy 1.0\n",
            "\n",
            "[[17]]\n",
            "36 accuracy 1.0\n",
            "\n",
            "[[21]]\n",
            "37 accuracy 1.0\n",
            "\n",
            "[[16]]\n",
            "38 accuracy 1.0\n",
            "\n",
            "[[14]]\n",
            "39 accuracy 1.0\n",
            "\n",
            "[[13]]\n",
            "40 accuracy 1.0\n",
            "\n",
            "[[11]]\n",
            "41 accuracy 1.0\n",
            "\n",
            "[[ 0  1]\n",
            " [ 0 10]]\n",
            "42 accuracy 0.9090909090909091\n",
            "\n",
            "[[0 2]\n",
            " [0 9]]\n",
            "43 accuracy 0.8181818181818182\n",
            "\n",
            "[[1 1]\n",
            " [0 7]]\n",
            "44 accuracy 0.8888888888888888\n",
            "\n",
            "[[0 3]\n",
            " [0 6]]\n",
            "45 accuracy 0.6666666666666666\n",
            "\n",
            "[[0 2]\n",
            " [0 7]]\n",
            "46 accuracy 0.7777777777777778\n",
            "\n",
            "[[20]]\n",
            "47 accuracy 1.0\n",
            "\n",
            "[[ 0 20]\n",
            " [ 0  0]]\n",
            "48 accuracy 0.0\n",
            "\n",
            "[[17]]\n",
            "49 accuracy 1.0\n",
            "\n",
            "[[16]]\n",
            "50 accuracy 1.0\n",
            "\n",
            "[[18]]\n",
            "51 accuracy 1.0\n",
            "\n",
            "[[ 0  0]\n",
            " [ 4 13]]\n",
            "52 accuracy 0.7647058823529411\n",
            "\n",
            "[[ 0  0]\n",
            " [ 1 18]]\n",
            "53 accuracy 0.9473684210526315\n",
            "\n",
            "[[ 0  0]\n",
            " [ 1 18]]\n",
            "54 accuracy 0.9473684210526315\n",
            "\n",
            "[[ 0  0]\n",
            " [ 1 17]]\n",
            "55 accuracy 0.9444444444444444\n",
            "\n",
            "[[20]]\n",
            "56 accuracy 1.0\n",
            "\n",
            "[[19]]\n",
            "57 accuracy 1.0\n",
            "\n",
            "[[ 5  0]\n",
            " [10  0]]\n",
            "58 accuracy 0.3333333333333333\n",
            "\n",
            "[[14  3]\n",
            " [ 0  0]]\n",
            "59 accuracy 0.8235294117647058\n",
            "\n",
            "[[16]]\n",
            "60 accuracy 1.0\n",
            "\n",
            "[[17]]\n",
            "61 accuracy 1.0\n",
            "\n",
            "[[20  1]\n",
            " [ 0  0]]\n",
            "62 accuracy 0.9523809523809523\n",
            "\n",
            "[[18]]\n",
            "63 accuracy 1.0\n",
            "\n",
            "[[6 3]\n",
            " [0 0]]\n",
            "64 accuracy 0.6666666666666666\n",
            "\n",
            "[[0 9]\n",
            " [0 0]]\n",
            "65 accuracy 0.0\n",
            "\n",
            "[[2 9]\n",
            " [0 0]]\n",
            "66 accuracy 0.18181818181818182\n",
            "\n",
            "[[6 5]\n",
            " [0 0]]\n",
            "67 accuracy 0.5454545454545454\n",
            "\n",
            "[[ 0  0]\n",
            " [ 1 20]]\n",
            "68 accuracy 0.9523809523809523\n",
            "\n",
            "[[ 0  4]\n",
            " [ 2 13]]\n",
            "69 accuracy 0.6842105263157895\n",
            "\n",
            "[[ 1  2]\n",
            " [ 0 18]]\n",
            "70 accuracy 0.9047619047619048\n",
            "\n",
            "[[145  65]\n",
            " [ 20 607]]\n",
            "0.8984468339307049\n"
          ]
        }
      ],
      "source": [
        "# stat_samples\n",
        "cross_validate_files(stat_samples,labels,names,verbose=1)"
      ]
    },
    {
      "cell_type": "markdown",
      "id": "62318b8d-3cba-4505-acf2-8a32f1be0330",
      "metadata": {
        "id": "62318b8d-3cba-4505-acf2-8a32f1be0330"
      },
      "source": [
        "# Conclusion:\n",
        "\n",
        "Najprostsza metoda:\n",
        "\n",
        "- Podziel plik na próbki długości 1 sekundy (lub 0.1 sekundy)\n",
        "- Dla każdej próbki policz statystyki dla każdego sygnału (po 6 wartości na sygnał) i złóż je w jeden wektor (11x6 = 66 wartości na każdą próbkę)\n",
        "- Dla każdego pliku\n",
        "  - stwórz model RandomForest i wytrenuj go na wszystkich próbkach z pozostałych plików\n",
        "  - zastosuj ten model do klasyfikacji próbek z tego pliku\n",
        "\n",
        "Wynik: około 90% poprawnych klasyfikacji"
      ]
    },
    {
      "cell_type": "markdown",
      "id": "946a8a58-e4d1-49e0-977c-4a2c85db85fc",
      "metadata": {
        "id": "946a8a58-e4d1-49e0-977c-4a2c85db85fc"
      },
      "source": [
        "Problemy:\n",
        "\n",
        "- Bardzo mało jest plików w których są próbki zarówno dobe jak i złe - i w tych plikach najczęściej są błędy klasyfikacji\n",
        "- Wartości parametrów są mocno uzależnione od momentu spawania - kolejne pliki są do siebie podobne (patrz poniżej)\n",
        "- Tak więc algorytm wykorzystuje różnice pomiędzy plikami a nie sygnałami"
      ]
    },
    {
      "cell_type": "code",
      "execution_count": null,
      "id": "f63cfb4f-ed57-4112-b8c7-2a1a2c53924e",
      "metadata": {
        "id": "f63cfb4f-ed57-4112-b8c7-2a1a2c53924e"
      },
      "outputs": [],
      "source": []
    },
    {
      "cell_type": "code",
      "execution_count": null,
      "id": "a2832361-5b1d-4373-9a7a-593c34b822c4",
      "metadata": {
        "id": "a2832361-5b1d-4373-9a7a-593c34b822c4",
        "outputId": "f172c915-3470-4775-a7fa-fc81c2568dc6"
      },
      "outputs": [
        {
          "name": "stdout",
          "output_type": "stream",
          "text": [
            "[[ 0 22  0 ...  0  0  0]\n",
            " [ 0  0 14 ...  0  0  0]\n",
            " [ 0 19  0 ...  0  0  0]\n",
            " ...\n",
            " [ 0  0  0 ...  0 17  0]\n",
            " [ 0  0  0 ... 17  0  0]\n",
            " [ 0  0  0 ...  0  2  0]]\n",
            "0.0\n"
          ]
        }
      ],
      "source": [
        "# stat_samples\n",
        "cm = cross_validate_files(stat_samples,names,names)"
      ]
    },
    {
      "cell_type": "code",
      "execution_count": null,
      "id": "7c517b00-606f-4334-b7bf-09100eb0ba58",
      "metadata": {
        "id": "7c517b00-606f-4334-b7bf-09100eb0ba58",
        "outputId": "0252022a-a882-4e7d-d3fc-8998e8ae9af7"
      },
      "outputs": [
        {
          "data": {
            "text/plain": [
              "<matplotlib.image.AxesImage at 0x777299aa3730>"
            ]
          },
          "execution_count": 49,
          "metadata": {},
          "output_type": "execute_result"
        },
        {
          "data": {
            "image/png": "[encoded data removed]",
            "text/plain": [
              "<Figure size 480x480 with 1 Axes>"
            ]
          },
          "metadata": {},
          "output_type": "display_data"
        }
      ],
      "source": [
        "#widać tu, że pliki OBOK SIEBIE są do siebie podobne. Np próbk z pliku 30 są zwykle klasyfikowane jako 29 lub 31\n",
        "plt.matshow(cm)"
      ]
    },
    {
      "cell_type": "code",
      "execution_count": null,
      "id": "b160b73d-ee30-4416-91e7-4bf0d06381c0",
      "metadata": {
        "id": "b160b73d-ee30-4416-91e7-4bf0d06381c0"
      },
      "outputs": [],
      "source": []
    }
  ],
  "metadata": {
    "kernelspec": {
      "display_name": "Python 3 (ipykernel)",
      "language": "python",
      "name": "python3"
    },
    "language_info": {
      "codemirror_mode": {
        "name": "ipython",
        "version": 3
      },
      "file_extension": ".py",
      "mimetype": "text/x-python",
      "name": "python",
      "nbconvert_exporter": "python",
      "pygments_lexer": "ipython3",
      "version": "3.9.18"
    },
    "colab": {
      "provenance": [],
      "include_colab_link": true
    }
  },
  "nbformat": 4,
  "nbformat_minor": 5
}